{
  "nbformat": 4,
  "nbformat_minor": 0,
  "metadata": {
    "colab": {
      "name": "data_preprocessing.ipynb의 사본의 사본",
      "provenance": []
    },
    "kernelspec": {
      "name": "python3",
      "display_name": "Python 3"
    },
    "language_info": {
      "name": "python"
    }
  },
  "cells": [
    {
      "cell_type": "markdown",
      "metadata": {
        "id": "HsLKM9bfWft0"
      },
      "source": [
        "## 1. Change the directory"
      ]
    },
    {
      "cell_type": "code",
      "metadata": {
        "colab": {
          "base_uri": "https://localhost:8080/"
        },
        "id": "mh4NBLMhWGGF",
        "outputId": "4af5349c-4e76-4bdd-864c-8a6c8471d93e"
      },
      "source": [
        "%cd /content/drive/MyDrive/recipekogpt2"
      ],
      "execution_count": null,
      "outputs": [
        {
          "output_type": "stream",
          "text": [
            "/content/drive/.shortcut-targets-by-id/1jOKmNyG5BEUAKKmGZ__qNyXG3qcjgYHB/recipekogpt2\n"
          ],
          "name": "stdout"
        }
      ]
    },
    {
      "cell_type": "code",
      "metadata": {
        "colab": {
          "base_uri": "https://localhost:8080/"
        },
        "id": "UX9V2Qiecvi3",
        "outputId": "c56fc486-c82a-4dbd-9fcb-fbb4532c6b35"
      },
      "source": [
        "from google.colab import drive\n",
        "drive.mount('/content/drive')"
      ],
      "execution_count": null,
      "outputs": [
        {
          "output_type": "stream",
          "text": [
            "Mounted at /content/drive\n"
          ],
          "name": "stdout"
        }
      ]
    },
    {
      "cell_type": "markdown",
      "metadata": {
        "id": "FX01ToYBWmJn"
      },
      "source": [
        "## 2. Load and check the data structure"
      ]
    },
    {
      "cell_type": "markdown",
      "metadata": {
        "id": "0vBGQXWQWsGr"
      },
      "source": [
        "데이터는 딕셔너리 형태로 저장되어 있으며, 재료부분은 value값이 리스트 형태입니다."
      ]
    },
    {
      "cell_type": "code",
      "metadata": {
        "colab": {
          "base_uri": "https://localhost:8080/"
        },
        "id": "eZRb2LB7IoLX",
        "outputId": "6e07634c-88a0-4dc5-ad0b-539019054c0d"
      },
      "source": [
        "import pickle\n",
        "import pandas as pd\n",
        "\n",
        "with open('/content/drive/MyDrive/data/all_token_pkl.pkl', \"rb\") as fr:\n",
        "    dfp = pickle.load(fr)\n",
        "df = pd.DataFrame(dfp)\n",
        "df.rename(columns={'음식명':'title','재료':'ingredients','레시피':'instructions'}, inplace = True)\n",
        "df_t = df.loc[:,['title','ingredients','instructions']]\n",
        "df_t.shape"
      ],
      "execution_count": null,
      "outputs": [
        {
          "output_type": "execute_result",
          "data": {
            "text/plain": [
              "(22594, 3)"
            ]
          },
          "metadata": {
            "tags": []
          },
          "execution_count": 5
        }
      ]
    },
    {
      "cell_type": "code",
      "metadata": {
        "colab": {
          "base_uri": "https://localhost:8080/"
        },
        "id": "HnTOBDEFhESa",
        "outputId": "4fc32b08-41b1-475e-ed66-39a8fea9fbbf"
      },
      "source": [
        "df_t.isnull().any()"
      ],
      "execution_count": null,
      "outputs": [
        {
          "output_type": "execute_result",
          "data": {
            "text/plain": [
              "title           False\n",
              "ingredients     False\n",
              "instructions     True\n",
              "dtype: bool"
            ]
          },
          "metadata": {
            "tags": []
          },
          "execution_count": 6
        }
      ]
    },
    {
      "cell_type": "code",
      "metadata": {
        "id": "K-JLX_a5hYo-"
      },
      "source": [
        "df_drop = df_t.dropna(axis=0)"
      ],
      "execution_count": null,
      "outputs": []
    },
    {
      "cell_type": "code",
      "metadata": {
        "colab": {
          "base_uri": "https://localhost:8080/"
        },
        "id": "OmfVTpZNgEd3",
        "outputId": "4540c2e7-215f-4446-b01b-48821fa5d418"
      },
      "source": [
        "data = df_drop.to_dict('records')\n",
        "data[0:3]"
      ],
      "execution_count": null,
      "outputs": [
        {
          "output_type": "execute_result",
          "data": {
            "text/plain": [
              "[{'ingredients': ['고구마', '설탕', '찹쌀', '가루', '물', '잣'],\n",
              "  'instructions': '고구마는 깨끗이 씻어서 껍질을 벗기고 4 정도로 잘라준다. 찜기에 고구마를 넣고 20-30분 정도 삶아 주고 블렌더나 체를 이용하여 잘 으 깨어 곱게 만든다. 고구마와 물을 섞어 끓이면서 찹쌀가루로 농도를 맞추고 설탕을 넣어 맛을 낸다. 잣을 팬에 노릇하게 볶아 다져서 고구마 죽에 섞는다. 기호에 따라 고구마를 튀겨 얹어 먹어도 좋다.',\n",
              "  'title': '칼륨 듬뿍 고구마죽'},\n",
              " {'ingredients': ['채소',\n",
              "   '애호박',\n",
              "   '표고버섯',\n",
              "   '당근',\n",
              "   '누룽지',\n",
              "   '순두부',\n",
              "   '달걀',\n",
              "   '참기름',\n",
              "   '소금',\n",
              "   '참깨',\n",
              "   '후추'],\n",
              "  'instructions': '깨끗이 씻어 손질한 애호박 당근과 기둥을 뗀 표고버섯을 잘게 다지듯이 썬다. 누룽지는 1 정도로 잘게 부숴준다. 냄비에 참기름을 두르고 썰어 놓은 채소를 볶다가 누룽지와 물을 넣고 끓인다. 누룽지가 살짝 퍼지면 순두부를 넣고 흰 후추와 소금을 넣는다. 죽이 끓으면 달걀을 풀어 넣고 한 소끔 끓여낸 후 참깨를 뿌려 마무리한다.',\n",
              "  'title': '누룽지 두부 계란죽'},\n",
              " {'ingredients': ['초밥',\n",
              "   '밥',\n",
              "   '공기',\n",
              "   '배합',\n",
              "   '초',\n",
              "   '식초',\n",
              "   '설탕',\n",
              "   '소금',\n",
              "   '오색',\n",
              "   '지라시',\n",
              "   '달걀노른자',\n",
              "   '달걀',\n",
              "   '표고버섯',\n",
              "   '장',\n",
              "   '송이버섯',\n",
              "   '새우',\n",
              "   '마리',\n",
              "   '홍',\n",
              "   '피망',\n",
              "   '청',\n",
              "   '양파',\n",
              "   '두유',\n",
              "   '참기름',\n",
              "   '식용유'],\n",
              "  'instructions': '배합초는 중불에서 설탕이 녹을 때까지 저어가면서 녹인다. 뜨거운 밥에 배합초를 넣어서 밥알이 으깨지지 않게 고루 저어가면서 밥을 체온 정도로 식힌다. 표고버섯은 기둥을 떼고 끓는 물에 데친 후 찬물에 헹궈 물기를 없애고 얇게 썰어 달궈진 팬에 참기름을 두르고 볶는다. 새송이버섯은 세로로 얇게 썰어 달궈진 팬에 참기름을 두르고 볶는다. 달걀 노른자를 고루  풀어 약한 불에 지단을 부친 후 채 썬다. 청피망과 홍피망은 채를 썬 후 달궈진 팬에 기름을 두르고 볶는다. 양파는 채를 썰어 찬물에 담가 매운맛을 제거한 뒤 달궈진 팬에 기름을 두르고 살짝 볶는다. 새우는 껍질을 벗기고 등 쪽 2-3 마디에 있는 내장을 꼬챙이로 꺼내고 물에 헹궈 물기를 뺀 다음 기름을 두르고 볶는다. 초밥 위에 청피망 홍피망 양파 달걀 노른자 새송이버섯 표고버섯 새우를 가지런히 놓는다.',\n",
              "  'title': '오색지라시 스시'}]"
            ]
          },
          "metadata": {
            "tags": []
          },
          "execution_count": 8
        }
      ]
    },
    {
      "cell_type": "markdown",
      "metadata": {
        "id": "ozkIbIxkXTlM"
      },
      "source": [
        "## 3. Change the data structure"
      ]
    },
    {
      "cell_type": "markdown",
      "metadata": {
        "id": "qsf2vRQCXc8D"
      },
      "source": [
        "딕셔너리 형태의 데이터를 txt형태로 바꿔줍니다. 이 때, 각 부분(ingredients, title, instructions)의 시작과 끝 부분에 토큰을 붙여줍니다. 토큰은 추후 GPT-2가 훈련할 때 각 부분이 시작하고 끝난다는 것을 나타내줍니다. 또한 각 재료 사이에는 '$'문자를 삽입해 재료를 구분해줍니다."
      ]
    },
    {
      "cell_type": "code",
      "metadata": {
        "id": "j623SYMr6KsR"
      },
      "source": [
        "from preprocessing.dependency import parent_dir\n",
        "from preprocessing.common.basics import *\n",
        "from preprocessing.common.save import make_dir, save_pickle, load_pickle, save\n",
        "import random\n",
        "import tqdm"
      ],
      "execution_count": null,
      "outputs": []
    },
    {
      "cell_type": "code",
      "metadata": {
        "id": "Q5apfPY-3ObG"
      },
      "source": [
        "def txt(v, fields, mode = 'train'):\n",
        "    \"\"\" transform the recipe dict to string\n",
        "    \n",
        "        Args:\n",
        "          v: A dict of recipe information\n",
        "          fields: an order list, the last is the field to predict\n",
        "          mode: string\n",
        "\n",
        "        Returns:\n",
        "          In test mode, return string X, y\n",
        "          In train mode, return string X + y\n",
        "    \"\"\"\n",
        "    to_write = ''\n",
        "    for field in fields:\n",
        "        if field == 'title':\n",
        "            name = v['title']\n",
        "            to_write += '<unused0>'+name+'<unused1>'\n",
        "        if field == 'ingredients':\n",
        "            ingredients = v['ingredients']\n",
        "            to_write += '<unused2>'+'$'.join(ingredients)+'$<unused3>'\n",
        "        if field == 'instructions':\n",
        "            instructions = v['instructions']\n",
        "            to_write += '<unused4>'+ instructions +'<unused5>'\n",
        "    to_write += '\\n'\n",
        "            \n",
        "    if mode == 'train':\n",
        "        return to_write\n",
        "                                                     \n",
        "    elif mode == 'test':\n",
        "        field_to_predict = '<start-%s>'%fields[-1]\n",
        "        to_X, to_y = to_write.split(field_to_predict)\n",
        "        return to_X+field_to_predict, to_y\n",
        "\n",
        "class to_gpt2:\n",
        "    def __init__(self, data, ls = None):\n",
        "        if not ls:\n",
        "            ls = list(range(len(data)))\n",
        "        random.seed(42)\n",
        "        random.shuffle(ls)\n",
        "        self.ls_test = ls[:2173] #10, 10, 80, test, val, train\n",
        "        self.ls_val = ls[2173:4346]\n",
        "        self.ls_train = ls[4346:]\n",
        "        self.data = data\n",
        "        \n",
        "    def test(self, ls, filename, overwrite = False, is_val = False):\n",
        "        to_write = ''\n",
        "        # order of field and the inital of the field to predict\n",
        "        orders = [(['title','ingredients','instructions'], 'd'),\n",
        "                  (['title','instructions','ingredients'], 'i'),\n",
        "                  (['ingredients','instructions','title'], 't')]\n",
        "        \n",
        "        for i, v in tqdm.tqdm(enumerate(self.data)):\n",
        "            if i in ls:\n",
        "                for order, init in orders:\n",
        "                    X, y = txt(v, order, mode = 'test')\n",
        "                    self.save(filename+'X/%d'%(i)+'%s.txt'%(init), X, overwrite)\n",
        "                    self.save(filename+'y/%d'%(i)+'%s.txt'%(init), y, overwrite)\n",
        "        \n",
        "    def save(self, filename, to_write, overwrite = False):\n",
        "        make_dir(filename)\n",
        "        if os.path.isfile(filename) == True and overwrite == False:\n",
        "            print('already exists'+filename)\n",
        "        else:    \n",
        "            with open(filename,'w') as f:\n",
        "                f.write('%s' % to_write)\n",
        "                \n",
        "    def make_txt(self, ls, filename, tag, overwrite = False):\n",
        "        make_dir(filename)\n",
        "        f = open(f'{filename}/{tag}', 'w')\n",
        "        for i, v in tqdm.tqdm(enumerate(self.data)):\n",
        "            if i in ls:\n",
        "                f.writelines(self.encode_recipe(self.data[i]))      \n",
        "        print(f'{filename}/{tag}')\n",
        "        f.close()\n",
        "        \n",
        "    def encode_recipe(self,recipe):\n",
        "        return txt(recipe, ['title','ingredients','instructions'])\n",
        "    \n",
        "    def fast_txt(self, filename, overwrite = False):\n",
        "        self.make_txt(self.ls_train, filename, tag = 'recipegpt_train.txt')\n",
        "        self.make_txt(self.ls_val, filename, tag = 'recipegpt_val.txt')\n",
        "        self.make_txt(self.ls_test, filename, tag = 'recipegpt_test.txt')"
      ],
      "execution_count": null,
      "outputs": []
    },
    {
      "cell_type": "markdown",
      "metadata": {
        "id": "kT_hYuvPYd1c"
      },
      "source": [
        "클래스 선헌 후, 인스턴스를 만듭니다. 처리된 데이터를 저장할 디렉토리를 선언합니다."
      ]
    },
    {
      "cell_type": "code",
      "metadata": {
        "id": "PPcvIlKA5Hzi"
      },
      "source": [
        "model = to_gpt2(data)\n",
        "filename = './data/recipegpt'"
      ],
      "execution_count": null,
      "outputs": []
    },
    {
      "cell_type": "code",
      "metadata": {
        "id": "slkfhV09fMpT",
        "colab": {
          "base_uri": "https://localhost:8080/",
          "height": 35
        },
        "outputId": "158abc8f-abb4-46b0-b968-ec98f4cb41cf"
      },
      "source": [
        "os.getcwd()"
      ],
      "execution_count": null,
      "outputs": [
        {
          "output_type": "execute_result",
          "data": {
            "application/vnd.google.colaboratory.intrinsic+json": {
              "type": "string"
            },
            "text/plain": [
              "'/content/drive/.shortcut-targets-by-id/1jOKmNyG5BEUAKKmGZ__qNyXG3qcjgYHB/recipekogpt2'"
            ]
          },
          "metadata": {
            "tags": []
          },
          "execution_count": 18
        }
      ]
    },
    {
      "cell_type": "code",
      "metadata": {
        "colab": {
          "base_uri": "https://localhost:8080/"
        },
        "id": "l9nFE6Ct5zWO",
        "outputId": "a07d585f-3ca6-44a6-f629-9552bbc716d0"
      },
      "source": [
        "model.fast_txt(filename)"
      ],
      "execution_count": null,
      "outputs": [
        {
          "output_type": "stream",
          "text": [
            "22590it [00:07, 3004.96it/s]\n",
            "2217it [00:00, 22143.15it/s]"
          ],
          "name": "stderr"
        },
        {
          "output_type": "stream",
          "text": [
            "./data/recipegpt/recipegpt_train.txt\n"
          ],
          "name": "stdout"
        },
        {
          "output_type": "stream",
          "text": [
            "22590it [00:01, 19744.19it/s]\n",
            "2286it [00:00, 22828.83it/s]"
          ],
          "name": "stderr"
        },
        {
          "output_type": "stream",
          "text": [
            "./data/recipegpt/recipegpt_val.txt\n"
          ],
          "name": "stdout"
        },
        {
          "output_type": "stream",
          "text": [
            "22590it [00:01, 19603.52it/s]"
          ],
          "name": "stderr"
        },
        {
          "output_type": "stream",
          "text": [
            "./data/recipegpt/recipegpt_test.txt\n"
          ],
          "name": "stdout"
        },
        {
          "output_type": "stream",
          "text": [
            "\n"
          ],
          "name": "stderr"
        }
      ]
    },
    {
      "cell_type": "code",
      "metadata": {
        "id": "-eC99Au2eRgl"
      },
      "source": [
        ""
      ],
      "execution_count": null,
      "outputs": []
    }
  ]
}